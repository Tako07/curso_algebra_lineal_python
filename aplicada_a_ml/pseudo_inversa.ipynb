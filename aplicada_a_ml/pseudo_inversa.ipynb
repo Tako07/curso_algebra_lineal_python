{
 "cells": [
  {
   "cell_type": "code",
   "execution_count": 1,
   "metadata": {},
   "outputs": [],
   "source": [
    "#Un sistema de ecuaciones Ax = b\n",
    "#Tiene solucion cuando existe la inversa de A (A^-1)\n",
    "# x = A^-1 b\n",
    "#Cuando no existe la inversa podemos buscar la pseudo inversa\n",
    "# A^pse\n",
    "# Cuando se hace el producto interno de A por su pseudo inversa se obtiene\n",
    "# valores cercanos a la identidad\n",
    "# A A^pse ≈ ID"
   ]
  },
  {
   "cell_type": "code",
   "execution_count": 2,
   "metadata": {},
   "outputs": [],
   "source": [
    "import numpy as np\n",
    "np.set_printoptions(suppress=True)"
   ]
  },
  {
   "cell_type": "code",
   "execution_count": 3,
   "metadata": {},
   "outputs": [],
   "source": [
    "#La pseudo inversa de Moore Penrose es igual a la matriz V\n",
    "#De la descomposición SVD por la Diagonal, pero no va a ser la digonal D\n",
    "#Es una diagonal asociada a la psudo inversa, es una transformación de D\n",
    "#por U transpuesta\n",
    "# A^pse = V D^pse U.T"
   ]
  },
  {
   "cell_type": "code",
   "execution_count": 4,
   "metadata": {},
   "outputs": [
    {
     "name": "stdout",
     "output_type": "stream",
     "text": [
      "[[ 2  3]\n",
      " [ 5  7]\n",
      " [11 13]]\n"
     ]
    }
   ],
   "source": [
    "A = np.array([[2,3],[5,7],[11,13]])\n",
    "print(A)"
   ]
  },
  {
   "cell_type": "code",
   "execution_count": 5,
   "metadata": {},
   "outputs": [],
   "source": [
    "#La matriz M. P. cuand se verifican 4 condiciones existe y es única\n",
    "U, D, V = np.linalg.svd(A)"
   ]
  },
  {
   "cell_type": "code",
   "execution_count": 6,
   "metadata": {},
   "outputs": [
    {
     "name": "stdout",
     "output_type": "stream",
     "text": [
      "U [[-0.18499741 -0.47276624 -0.86154979]\n",
      " [-0.44249308 -0.74271297  0.50257071]\n",
      " [-0.87748267  0.4742041  -0.07179582]]\n",
      "D [19.40321383  0.71783924]\n",
      "V [[-0.63055377 -0.77614557]\n",
      " [ 0.77614557 -0.63055377]]\n"
     ]
    }
   ],
   "source": [
    "print(\"U\", U)\n",
    "print(\"D\", D)\n",
    "print(\"V\", V)"
   ]
  },
  {
   "cell_type": "code",
   "execution_count": 9,
   "metadata": {},
   "outputs": [
    {
     "name": "stdout",
     "output_type": "stream",
     "text": [
      "(3, 2)\n",
      "[[0. 0. 0.]\n",
      " [0. 0. 0.]]\n"
     ]
    }
   ],
   "source": [
    "print(A.shape)\n",
    "D_pse = np.zeros((A.shape[0], A.shape[1])).T\n",
    "print(D_pse)"
   ]
  },
  {
   "cell_type": "code",
   "execution_count": 14,
   "metadata": {},
   "outputs": [
    {
     "name": "stdout",
     "output_type": "stream",
     "text": [
      "Valores a remplazar en D_pse\n",
      "[[0. 0.]\n",
      " [0. 0.]]\n"
     ]
    }
   ],
   "source": [
    "print(\"Valores a remplazar en D_pse\")\n",
    "print(D_pse[:D.shape[0], :D.shape[0]])"
   ]
  },
  {
   "cell_type": "code",
   "execution_count": 11,
   "metadata": {},
   "outputs": [
    {
     "name": "stdout",
     "output_type": "stream",
     "text": [
      "Valores que pondremos en D_pse\n",
      "[[0.05153785 0.        ]\n",
      " [0.         1.39306957]]\n"
     ]
    }
   ],
   "source": [
    "print(\"Valores que pondremos en D_pse\")\n",
    "print(np.linalg.inv(np.diag(D)))"
   ]
  },
  {
   "cell_type": "code",
   "execution_count": 17,
   "metadata": {},
   "outputs": [
    {
     "name": "stdout",
     "output_type": "stream",
     "text": [
      "D_pse\n",
      "[[0.05153785 0.         0.        ]\n",
      " [0.         1.39306957 0.        ]]\n"
     ]
    }
   ],
   "source": [
    "print(\"D_pse\")\n",
    "D_pse[:D.shape[0], :D.shape[0]] = np.linalg.inv(np.diag(D))\n",
    "print(D_pse)"
   ]
  },
  {
   "cell_type": "code",
   "execution_count": 18,
   "metadata": {},
   "outputs": [
    {
     "name": "stdout",
     "output_type": "stream",
     "text": [
      "[[-0.50515464 -0.78865979  0.54123711]\n",
      " [ 0.42268041  0.67010309 -0.3814433 ]]\n"
     ]
    }
   ],
   "source": [
    "A_pse = V.T.dot(D_pse).dot(U.T)\n",
    "print(A_pse)"
   ]
  },
  {
   "cell_type": "code",
   "execution_count": 19,
   "metadata": {},
   "outputs": [
    {
     "name": "stdout",
     "output_type": "stream",
     "text": [
      "[[-0.50515464 -0.78865979  0.54123711]\n",
      " [ 0.42268041  0.67010309 -0.3814433 ]]\n"
     ]
    }
   ],
   "source": [
    "A_pse_calc = np.linalg.pinv(A)\n",
    "print(A_pse_calc)"
   ]
  },
  {
   "cell_type": "code",
   "execution_count": 21,
   "metadata": {},
   "outputs": [
    {
     "name": "stdout",
     "output_type": "stream",
     "text": [
      "[[ 1. -0.]\n",
      " [ 0.  1.]]\n"
     ]
    }
   ],
   "source": [
    "print(A_pse.dot(A)) "
   ]
  },
  {
   "cell_type": "code",
   "execution_count": 23,
   "metadata": {},
   "outputs": [],
   "source": [
    "np.set_printoptions(suppress = False)"
   ]
  },
  {
   "cell_type": "code",
   "execution_count": 24,
   "metadata": {},
   "outputs": [
    {
     "name": "stdout",
     "output_type": "stream",
     "text": [
      "[[ 1.00000000e+00 -8.88178420e-16]\n",
      " [ 2.66453526e-15  1.00000000e+00]]\n"
     ]
    }
   ],
   "source": [
    "print(A_pse.dot(A)) "
   ]
  },
  {
   "cell_type": "code",
   "execution_count": 25,
   "metadata": {},
   "outputs": [
    {
     "name": "stdout",
     "output_type": "stream",
     "text": [
      "[[ 0.25773196  0.43298969 -0.06185567]\n",
      " [ 0.43298969  0.74742268  0.03608247]\n",
      " [-0.06185567  0.03608247  0.99484536]]\n"
     ]
    }
   ],
   "source": [
    "#No tiene la propiedad de una inversa común (multiplicar a la derecha o a la izquierda)\n",
    "#(No son conmutativa)\n",
    "print(A.dot(A_pse))"
   ]
  },
  {
   "cell_type": "code",
   "execution_count": 26,
   "metadata": {},
   "outputs": [
    {
     "name": "stdout",
     "output_type": "stream",
     "text": [
      "[[-0.50515464 -0.78865979  0.54123711]\n",
      " [ 0.42268041  0.67010309 -0.3814433 ]]\n"
     ]
    }
   ],
   "source": [
    "#Otro tipo se pseudoinversa\n",
    "A_pse_2 = np.linalg.inv(A.T.dot(A)).dot(A.T)\n",
    "print(A_pse_2)"
   ]
  },
  {
   "cell_type": "code",
   "execution_count": 27,
   "metadata": {},
   "outputs": [
    {
     "name": "stdout",
     "output_type": "stream",
     "text": [
      "[[ 1.00000000e+00 -2.48689958e-14]\n",
      " [-3.55271368e-15  1.00000000e+00]]\n"
     ]
    }
   ],
   "source": [
    "print(A_pse_2.dot(A))"
   ]
  },
  {
   "cell_type": "code",
   "execution_count": null,
   "metadata": {},
   "outputs": [],
   "source": [
    "#numpy usa la de svd (Moore Penrose)"
   ]
  }
 ],
 "metadata": {
  "kernelspec": {
   "display_name": "Python 3",
   "language": "python",
   "name": "python3"
  },
  "language_info": {
   "codemirror_mode": {
    "name": "ipython",
    "version": 3
   },
   "file_extension": ".py",
   "mimetype": "text/x-python",
   "name": "python",
   "nbconvert_exporter": "python",
   "pygments_lexer": "ipython3",
   "version": "3.7.6"
  }
 },
 "nbformat": 4,
 "nbformat_minor": 4
}
